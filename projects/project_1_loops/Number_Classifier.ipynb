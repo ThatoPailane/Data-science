{
  "metadata": {
    "kernelspec": {
      "name": "python",
      "display_name": "Python (Pyodide)",
      "language": "python"
    },
    "language_info": {
      "codemirror_mode": {
        "name": "python",
        "version": 3
      },
      "file_extension": ".py",
      "mimetype": "text/x-python",
      "name": "python",
      "nbconvert_exporter": "python",
      "pygments_lexer": "ipython3",
      "version": "3.8"
    }
  },
  "nbformat_minor": 5,
  "nbformat": 4,
  "cells": [
    {
      "id": "658b330f-d6f3-4fea-b71b-b35c2d1d9c4e",
      "cell_type": "code",
      "source": "def numbers(numbers):\n    result = {}\n    even = 0\n    odd = 0\n\n    for num in numbers:\n        if num % 2 == 0:\n            result[num] = \"Even\"\n            even += 1\n        else:\n            result[num] = \"Odd\"\n            odd += 1\n    \n    print(result)\n    print(\"Even count:\", even)\n    print(\"Odd count:\", odd)",
      "metadata": {
        "trusted": true
      },
      "outputs": [],
      "execution_count": 1
    },
    {
      "id": "acf1d922-b794-406b-b931-95ee53f41313",
      "cell_type": "code",
      "source": "numbers([4,7,9,6,3,1,8])",
      "metadata": {
        "trusted": true
      },
      "outputs": [
        {
          "name": "stdout",
          "output_type": "stream",
          "text": "{4: 'Even', 7: 'Odd', 9: 'Odd', 6: 'Even', 3: 'Odd', 1: 'Odd', 8: 'Even'}\nEven count: 3\nOdd count: 4\n"
        }
      ],
      "execution_count": 2
    },
    {
      "id": "6c562e3e-8c2a-4552-a14f-19f900f09666",
      "cell_type": "code",
      "source": "",
      "metadata": {
        "trusted": true
      },
      "outputs": [],
      "execution_count": null
    }
  ]
}