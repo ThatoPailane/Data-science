{
  "metadata": {
    "kernelspec": {
      "name": "python",
      "display_name": "Python (Pyodide)",
      "language": "python"
    },
    "language_info": {
      "codemirror_mode": {
        "name": "python",
        "version": 3
      },
      "file_extension": ".py",
      "mimetype": "text/x-python",
      "name": "python",
      "nbconvert_exporter": "python",
      "pygments_lexer": "ipython3",
      "version": "3.8"
    }
  },
  "nbformat_minor": 5,
  "nbformat": 4,
  "cells": [
    {
      "id": "4ee62484-56be-4a12-9ef1-0eea55e4a08a",
      "cell_type": "code",
      "source": "def classify(numbers):\n    average = sum(numbers) / len(numbers)\n    squares = [x * x for x in numbers]\n    classification = { num: 'High' if num > average else 'Low' if num < average else 'Average' for num in numbers}\n\n    print(\"Average:\", average)\n    print(\"Squared:\", squares)\n    print(\"Classification:\", classification)",
      "metadata": {
        "trusted": true
      },
      "outputs": [],
      "execution_count": 1
    },
    {
      "id": "4da41e85-6945-4891-a322-713005ba83ff",
      "cell_type": "code",
      "source": "classify([2, 5, 7, 10])",
      "metadata": {
        "trusted": true
      },
      "outputs": [
        {
          "name": "stdout",
          "output_type": "stream",
          "text": "Average: 6.0\nSquared: [4, 25, 49, 100]\nClassification: {2: 'Low', 5: 'Low', 7: 'High', 10: 'High'}\n"
        }
      ],
      "execution_count": 2
    },
    {
      "id": "3def6ac4-3114-454b-ab29-30b7fc425d68",
      "cell_type": "code",
      "source": "",
      "metadata": {
        "trusted": true
      },
      "outputs": [],
      "execution_count": null
    },
    {
      "id": "c119f9e9-4121-4418-aef0-425240e4b39e",
      "cell_type": "code",
      "source": "",
      "metadata": {
        "trusted": true
      },
      "outputs": [],
      "execution_count": null
    }
  ]
}