{
  "metadata": {
    "kernelspec": {
      "name": "python",
      "display_name": "Python (Pyodide)",
      "language": "python"
    },
    "language_info": {
      "codemirror_mode": {
        "name": "python",
        "version": 3
      },
      "file_extension": ".py",
      "mimetype": "text/x-python",
      "name": "python",
      "nbconvert_exporter": "python",
      "pygments_lexer": "ipython3",
      "version": "3.8"
    }
  },
  "nbformat_minor": 5,
  "nbformat": 4,
  "cells": [
    {
      "id": "003df92f-9e2c-4e6b-99a8-ee9522fe7ffe",
      "cell_type": "code",
      "source": "import pandas as pd\nimport numpy as np",
      "metadata": {
        "trusted": true
      },
      "outputs": [],
      "execution_count": 1
    },
    {
      "id": "733d028a-c523-4a18-800a-23233ae8c2b3",
      "cell_type": "code",
      "source": "def analyse_students(file_path):\n    df = pd.read_csv(file_path)\n    count = len(df)\n    df[\"Total\"] = df[[\"MathScore\",\"ScienceScore\", \"EnglishScore\"]].sum(axis=1)\n    total_array = df[\"Total\"].to_numpy()\n    mean = np.mean(total_array)\n    std = np.std(total_array)\n    top_students = df[df['Total'] > std + mean]\n    print(\"Number of students:\", count)\n    print(\"Class average:\", mean)\n    print(\"Grade standard deviation:\", std)\n    print(\"ID's of High-performing students:\")\n    for row in top_students.itertuples():\n        print(row.StudentID)",
      "metadata": {
        "trusted": true
      },
      "outputs": [],
      "execution_count": 2
    },
    {
      "id": "fccf5deb-026a-4d0f-8465-0ecd92b538ff",
      "cell_type": "code",
      "source": "analyse_students(\"assets/student_scores.csv\")",
      "metadata": {
        "trusted": true
      },
      "outputs": [
        {
          "name": "stdout",
          "output_type": "stream",
          "text": "Number of students: 20\nClass average: 218.75\nGrade standard deviation: 19.41874094785756\nID's of High-performing students:\n12\n14\n19\n"
        }
      ],
      "execution_count": 4
    },
    {
      "id": "da66eddd-b57a-4923-b79f-bc763e5a57dc",
      "cell_type": "code",
      "source": "",
      "metadata": {
        "trusted": true
      },
      "outputs": [],
      "execution_count": null
    }
  ]
}