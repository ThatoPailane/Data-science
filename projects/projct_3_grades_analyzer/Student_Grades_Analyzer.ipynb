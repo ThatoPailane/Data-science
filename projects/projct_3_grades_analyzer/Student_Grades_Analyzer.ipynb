{
 "cells": [
  {
   "cell_type": "code",
   "execution_count": 2,
   "id": "003df92f-9e2c-4e6b-99a8-ee9522fe7ffe",
   "metadata": {},
   "outputs": [],
   "source": [
    "import pandas as pd\n",
    "import numpy as np"
   ]
  },
  {
   "cell_type": "code",
   "execution_count": 3,
   "id": "733d028a-c523-4a18-800a-23233ae8c2b3",
   "metadata": {},
   "outputs": [],
   "source": [
    "def analyse_students(file_path):\n",
    "    df = pd.read_csv(file_path)\n",
    "    count = len(df)\n",
    "    df[\"Total\"] = df[[\"MathScore\",\"ScienceScore\", \"EnglishScore\"]].sum(axis=1)\n",
    "    total_array = df[\"Total\"].to_numpy()\n",
    "    mean = np.mean(total_array)\n",
    "    std = np.std(total_array)\n",
    "    top_students = df[df['Total'] > std + mean]\n",
    "    print(\"Number of students:\", count)\n",
    "    print(\"Class average:\", mean)\n",
    "    print(\"Grade standard deviation:\", std)\n",
    "    print(\"ID's of High-performing students:\")\n",
    "    for row in top_students.itertuples():\n",
    "        print(row.StudentID)"
   ]
  },
  {
   "cell_type": "code",
   "execution_count": 4,
   "id": "fccf5deb-026a-4d0f-8465-0ecd92b538ff",
   "metadata": {},
   "outputs": [
    {
     "name": "stdout",
     "output_type": "stream",
     "text": [
      "Number of students: 20\n",
      "Class average: 218.75\n",
      "Grade standard deviation: 19.41874094785756\n",
      "ID's of High-performing students:\n",
      "12\n",
      "14\n",
      "19\n"
     ]
    }
   ],
   "source": [
    "analyse_students(\"data/student_scores.csv\")"
   ]
  },
  {
   "cell_type": "code",
   "execution_count": null,
   "id": "da66eddd-b57a-4923-b79f-bc763e5a57dc",
   "metadata": {},
   "outputs": [],
   "source": []
  }
 ],
 "metadata": {
  "kernelspec": {
   "display_name": "Python 3 (ipykernel)",
   "language": "python",
   "name": "python3"
  },
  "language_info": {
   "codemirror_mode": {
    "name": "ipython",
    "version": 3
   },
   "file_extension": ".py",
   "mimetype": "text/x-python",
   "name": "python",
   "nbconvert_exporter": "python",
   "pygments_lexer": "ipython3",
   "version": "3.11.0"
  }
 },
 "nbformat": 4,
 "nbformat_minor": 5
}
